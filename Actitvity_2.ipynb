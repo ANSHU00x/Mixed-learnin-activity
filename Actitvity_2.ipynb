{
 "cells": [
  {
   "cell_type": "code",
   "execution_count": null,
   "id": "4bc2f297",
   "metadata": {},
   "outputs": [],
   "source": [
    "for i in range(11):\n",
    "    print(i)"
   ]
  },
  {
   "cell_type": "code",
   "execution_count": null,
   "id": "c82d4840",
   "metadata": {},
   "outputs": [],
   "source": [
    "for i in range (11):\n",
    "    if i%2==0:\n",
    "        {\n",
    "            print(i)\n",
    "        }"
   ]
  },
  {
   "cell_type": "code",
   "execution_count": null,
   "id": "21809368",
   "metadata": {},
   "outputs": [],
   "source": [
    "n=int(input(\"Enter n =\"))\n",
    "for i in range(n):\n",
    "    {\n",
    "        print(i)\n",
    "    }"
   ]
  },
  {
   "cell_type": "code",
   "execution_count": null,
   "id": "e91e37b7",
   "metadata": {},
   "outputs": [],
   "source": [
    "\n",
    "start = int(input(\"Enter the start value: \"))\n",
    "end = int(input(\"Enter the end value: \"))\n",
    "step = int(input(\"Enter the step value: \"))\n",
    "\n",
    "\n",
    "for count in range(start, end, step):\n",
    "    print(count)\n",
    "\n",
    "print(\"Loop ended.\")\n",
    "\n",
    "\n"
   ]
  },
  {
   "cell_type": "markdown",
   "id": "4120255e",
   "metadata": {},
   "source": [
    "Second Part \n",
    "\n",
    "\n",
    "While loop"
   ]
  },
  {
   "cell_type": "code",
   "execution_count": null,
   "id": "4aa4e1ca",
   "metadata": {},
   "outputs": [],
   "source": [
    "i=1\n",
    "while(i<=17):\n",
    "    print(i)\n",
    "    i=i+1"
   ]
  },
  {
   "cell_type": "code",
   "execution_count": null,
   "id": "b0ed28c2",
   "metadata": {},
   "outputs": [],
   "source": [
    "i=1\n",
    "while(i<=28):\n",
    "    if i%2!=0:\n",
    "    \n",
    "    \n",
    "        print(i)\n",
    "        \n",
    "    \n",
    "    i=i+1"
   ]
  },
  {
   "cell_type": "code",
   "execution_count": null,
   "id": "2d3c7f78",
   "metadata": {},
   "outputs": [],
   "source": [
    "\n",
    "user_input = int(input(\"Enter a number: \"))\n",
    "\n",
    "\n",
    "count = 1\n",
    "\n",
    "\n",
    "while count <= user_input:\n",
    "    print(count)\n",
    "    count += 1  \n",
    "print(\"Loop ended.\")\n",
    "\n"
   ]
  },
  {
   "cell_type": "markdown",
   "id": "c399215f",
   "metadata": {},
   "source": [
    "Third part \n",
    "\n",
    "Use of Break"
   ]
  },
  {
   "cell_type": "code",
   "execution_count": null,
   "id": "c91d23a2",
   "metadata": {},
   "outputs": [],
   "source": [
    "for i in range(16):\n",
    "    print (i)\n",
    "     \n",
    "    if i==10:\n",
    "            print(\"Current number= %d you are leaving for loop\"%i)\n",
    "            break\n",
    "        \n",
    "        \n",
    "       "
   ]
  },
  {
   "cell_type": "code",
   "execution_count": null,
   "id": "d83675b6",
   "metadata": {},
   "outputs": [],
   "source": [
    "for i in range (19):\n",
    "     print(i)\n",
    "        \n",
    "    if i%2 !=0:\n",
    "    print(i) \n",
    "     elif i==12:\n",
    "            \n",
    "    print(\"Current number =%d your leaving the loop \"%i)\n",
    "    break"
   ]
  },
  {
   "cell_type": "code",
   "execution_count": null,
   "id": "9569016a",
   "metadata": {},
   "outputs": [],
   "source": [
    "\n",
    "user_input = int(input(\"Enter a number: \"))\n",
    "\n",
    "half_range = (user_input // 2)\n",
    "\n",
    "\n",
    "for count in range(1, user_input + 1):\n",
    "    print(count)\n",
    "    \n",
    "   \n",
    "    if count == half_range:\n",
    "        print(\"Stopping at half the range:\", half_range)\n",
    "        break\n"
   ]
  },
  {
   "cell_type": "markdown",
   "id": "75c3f85f",
   "metadata": {},
   "source": [
    "Fourth part\n",
    "\n",
    "Countinue"
   ]
  },
  {
   "cell_type": "code",
   "execution_count": null,
   "id": "93e7671a",
   "metadata": {},
   "outputs": [],
   "source": [
    "i = 1\n",
    "while i <= 9:\n",
    "    if i % 2 != 0: \n",
    "        i += 1\n",
    "        continue  \n",
    "    print(i)\n",
    "    i += 1\n"
   ]
  },
  {
   "cell_type": "code",
   "execution_count": null,
   "id": "04f4f55c",
   "metadata": {},
   "outputs": [],
   "source": [
    "i = 1\n",
    "while i <= 16:\n",
    "    if i % 2 != 0: \n",
    "        i += 1\n",
    "        continue  \n",
    "    print(i)\n",
    "    i += 1"
   ]
  },
  {
   "cell_type": "markdown",
   "id": "a2a29398",
   "metadata": {},
   "source": [
    "Fifth part\n",
    "\n",
    "Functions"
   ]
  },
  {
   "cell_type": "code",
   "execution_count": null,
   "id": "ef37cfd4",
   "metadata": {},
   "outputs": [],
   "source": [
    "def average_of_three(num1, num2, num3):\n",
    "    average = (num1 + num2 + num3) / 3\n",
    "    print(\"The average is:\", average)\n",
    "\n",
    "\n",
    "average_of_three(10, 20, 30)\n"
   ]
  },
  {
   "cell_type": "code",
   "execution_count": null,
   "id": "cb771632",
   "metadata": {},
   "outputs": [],
   "source": [
    "def sum_of_five(num1, num2, num3, num4, num5):\n",
    "    total_sum = num1 + num2 + num3 + num4 + num5\n",
    "    print(\"The sum is:\", total_sum)\n",
    "\n",
    "\n",
    "sum_of_five(1, 2, 3, 4, 5)\n"
   ]
  },
  {
   "cell_type": "code",
   "execution_count": null,
   "id": "e12060ea",
   "metadata": {},
   "outputs": [],
   "source": [
    "import math\n",
    "\n",
    "def solve_quadratic(a, b, c):\n",
    "   \n",
    "    discriminant = b**2 - 4*a*c\n",
    "    \n",
    "    if discriminant > 0: \n",
    "        solution1 = (-b + math.sqrt(discriminant)) / (2 * a)\n",
    "        solution2 = (-b - math.sqrt(discriminant)) / (2 * a)\n",
    "        print(\"The solutions are real and different.\")\n",
    "        print(\"Solution 1:\", solution1)\n",
    "        print(\"Solution 2:\", solution2)\n",
    "    elif discriminant == 0: \n",
    "        solution = -b / (2 * a)\n",
    "        print(\"There is one real solution.\")\n",
    "        print(\"Solution:\", solution)\n",
    "    else:  \n",
    "        real_part = -b / (2 * a)\n",
    "        imaginary_part = math.sqrt(-discriminant) / (2 * a)\n",
    "        solution1 = complex(real_part, imaginary_part)\n",
    "        solution2 = complex(real_part, -imaginary_part)\n",
    "        print(\"The solutions are complex.\")\n",
    "        print(\"Solution 1:\", solution1)\n",
    "        print(\"Solution 2:\", solution2)\n",
    "\n",
    "\n",
    "solve_quadratic(1, -3, 2)  \n"
   ]
  },
  {
   "cell_type": "code",
   "execution_count": null,
   "id": "46caa510",
   "metadata": {},
   "outputs": [],
   "source": []
  }
 ],
 "metadata": {
  "kernelspec": {
   "display_name": "Python 3 (ipykernel)",
   "language": "python",
   "name": "python3"
  },
  "language_info": {
   "codemirror_mode": {
    "name": "ipython",
    "version": 3
   },
   "file_extension": ".py",
   "mimetype": "text/x-python",
   "name": "python",
   "nbconvert_exporter": "python",
   "pygments_lexer": "ipython3",
   "version": "3.9.16"
  }
 },
 "nbformat": 4,
 "nbformat_minor": 5
}
