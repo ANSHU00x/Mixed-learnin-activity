{
 "cells": [
  {
   "cell_type": "code",
   "execution_count": 1,
   "id": "d3326f35",
   "metadata": {},
   "outputs": [
    {
     "name": "stdout",
     "output_type": "stream",
     "text": [
      "Anshul\n"
     ]
    }
   ],
   "source": [
    "myname=\"Anshul\"\n",
    "print(myname)"
   ]
  },
  {
   "cell_type": "code",
   "execution_count": 2,
   "id": "20a5d82c",
   "metadata": {},
   "outputs": [
    {
     "name": "stdout",
     "output_type": "stream",
     "text": [
      "2024\n"
     ]
    }
   ],
   "source": [
    "year=2024\n",
    "print(year)"
   ]
  },
  {
   "cell_type": "code",
   "execution_count": 3,
   "id": "fb262e19",
   "metadata": {},
   "outputs": [
    {
     "name": "stdout",
     "output_type": "stream",
     "text": [
      "3.14\n"
     ]
    }
   ],
   "source": [
    "pi=3.14\n",
    "print(pi)"
   ]
  },
  {
   "cell_type": "code",
   "execution_count": 4,
   "id": "74e32880",
   "metadata": {},
   "outputs": [
    {
     "name": "stdout",
     "output_type": "stream",
     "text": [
      "True\n"
     ]
    }
   ],
   "source": [
    "bool_=True\n",
    "print(bool_)"
   ]
  },
  {
   "cell_type": "code",
   "execution_count": 5,
   "id": "53979a1a",
   "metadata": {},
   "outputs": [
    {
     "name": "stdout",
     "output_type": "stream",
     "text": [
      "BMW\n"
     ]
    }
   ],
   "source": [
    "favcar=\"BMW\"\n",
    "print(favcar)"
   ]
  },
  {
   "cell_type": "markdown",
   "id": "5a291c1f",
   "metadata": {},
   "source": [
    "Second Part"
   ]
  },
  {
   "cell_type": "code",
   "execution_count": 6,
   "id": "5a1d7795",
   "metadata": {},
   "outputs": [
    {
     "name": "stdout",
     "output_type": "stream",
     "text": [
      "Enter the radius in km=6341\n",
      "km = 6341\n",
      "Miles = 3963.125\n"
     ]
    }
   ],
   "source": [
    "\n",
    "radius=int(input(\"Enter the radius in km=\"))\n",
    "print(\"km =\" ,radius)\n",
    "\n",
    "miles=radius/1.6\n",
    "\n",
    "print(\"Miles =\" ,miles)"
   ]
  },
  {
   "cell_type": "code",
   "execution_count": 7,
   "id": "eeeb87a3",
   "metadata": {},
   "outputs": [
    {
     "name": "stdout",
     "output_type": "stream",
     "text": [
      "Enter Feet =40000\n",
      "Feet altitude = 40000\n",
      "Meter conversiom = 12192.0\n"
     ]
    }
   ],
   "source": [
    "\n",
    "feet=int(input(\"Enter Feet =\"))\n",
    "print(\"Feet altitude =\",feet)\n",
    "\n",
    "meter=feet*0.3048\n",
    "\n",
    "print(\"Meter conversiom =\", meter)\n"
   ]
  },
  {
   "cell_type": "code",
   "execution_count": 9,
   "id": "c461762d",
   "metadata": {
    "scrolled": true
   },
   "outputs": [
    {
     "name": "stdout",
     "output_type": "stream",
     "text": [
      "Enter a =40\n",
      "Enter b=10\n",
      "Addition = 50\n"
     ]
    }
   ],
   "source": [
    "a=int(input(\"Enter a =\"))\n",
    "b=int(input(\"Enter b=\"))\n",
    "c=a+b\n",
    "print(\"Addition =\",c)\n"
   ]
  },
  {
   "cell_type": "code",
   "execution_count": 12,
   "id": "eab8413d",
   "metadata": {},
   "outputs": [
    {
     "name": "stdout",
     "output_type": "stream",
     "text": [
      "Enter a =20\n",
      "Enter b=5\n",
      "Addition = 15\n"
     ]
    }
   ],
   "source": [
    "a=int(input(\"Enter a =\"))\n",
    "b=int(input(\"Enter b=\"))\n",
    "c=a-b\n",
    "print(\"Addition =\",c)"
   ]
  },
  {
   "cell_type": "code",
   "execution_count": 11,
   "id": "2f1db58b",
   "metadata": {},
   "outputs": [
    {
     "name": "stdout",
     "output_type": "stream",
     "text": [
      "Enter a =20\n",
      "Enter b=5\n",
      "Addition = 100\n"
     ]
    }
   ],
   "source": [
    "a=int(input(\"Enter a =\"))\n",
    "b=int(input(\"Enter b=\"))\n",
    "c=a*b\n",
    "print(\"Addition =\",c)"
   ]
  },
  {
   "cell_type": "code",
   "execution_count": 10,
   "id": "cf159f2f",
   "metadata": {},
   "outputs": [
    {
     "name": "stdout",
     "output_type": "stream",
     "text": [
      "Enter a =10\n",
      "Enter b=2\n",
      "Addition = 5.0\n"
     ]
    }
   ],
   "source": [
    "a=int(input(\"Enter a =\"))\n",
    "b=int(input(\"Enter b=\"))\n",
    "c=a/b\n",
    "print(\"Addition =\",c)"
   ]
  },
  {
   "cell_type": "code",
   "execution_count": null,
   "id": "e06881b5",
   "metadata": {},
   "outputs": [],
   "source": []
  }
 ],
 "metadata": {
  "kernelspec": {
   "display_name": "Python 3 (ipykernel)",
   "language": "python",
   "name": "python3"
  },
  "language_info": {
   "codemirror_mode": {
    "name": "ipython",
    "version": 3
   },
   "file_extension": ".py",
   "mimetype": "text/x-python",
   "name": "python",
   "nbconvert_exporter": "python",
   "pygments_lexer": "ipython3",
   "version": "3.9.16"
  }
 },
 "nbformat": 4,
 "nbformat_minor": 5
}
